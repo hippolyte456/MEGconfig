{
 "cells": [
  {
   "cell_type": "code",
   "execution_count": null,
   "metadata": {},
   "outputs": [],
   "source": [
    "import importlib\n",
    "import meg_config\n",
    "import meg_config.room as room\n",
    "# TODO change name\n",
    "# import meg_room.room as room (ou experiment_room.room?)\n",
    "\n",
    "from meg_config.room import CONFIG_PATH, USER_CONFIG_PATH\n",
    "importlib.reload(meg_config)\n",
    "importlib.reload(room)\n",
    "\n"
   ]
  },
  {
   "cell_type": "code",
   "execution_count": null,
   "metadata": {},
   "outputs": [],
   "source": [
    "meg_ns  = room.MegRoom(CONFIG_PATH, USER_CONFIG_PATH)"
   ]
  },
  {
   "cell_type": "code",
   "execution_count": null,
   "metadata": {},
   "outputs": [],
   "source": [
    "meg_ns.response_buttons.buttons"
   ]
  },
  {
   "cell_type": "code",
   "execution_count": null,
   "metadata": {},
   "outputs": [],
   "source": [
    "meg_ns.show_all()"
   ]
  },
  {
   "cell_type": "markdown",
   "metadata": {},
   "source": [
    "## Quelques attributs importants "
   ]
  },
  {
   "cell_type": "code",
   "execution_count": null,
   "metadata": {},
   "outputs": [],
   "source": [
    "print(meg_ns.response_buttons.buttons)\n",
    "print(meg_ns.response_buttons.buttons.l_red)\n",
    "print(meg_ns.response_buttons.buttons.r_green)"
   ]
  },
  {
   "cell_type": "code",
   "execution_count": null,
   "metadata": {},
   "outputs": [],
   "source": [
    "print(meg_ns.stim_pc.parport.port1)\n",
    "print(meg_ns.stim_pc.parport.port2)\n",
    "print(meg_ns.stim_pc.parport.port3)"
   ]
  },
  {
   "cell_type": "code",
   "execution_count": null,
   "metadata": {},
   "outputs": [],
   "source": [
    "print(meg_ns.stim_pc.x_shift)"
   ]
  },
  {
   "cell_type": "markdown",
   "metadata": {},
   "source": [
    "## Quelques fonctions importantes"
   ]
  },
  {
   "cell_type": "code",
   "execution_count": null,
   "metadata": {},
   "outputs": [],
   "source": [
    "meg_ns.stim_pc.send_all_triggers()"
   ]
  },
  {
   "cell_type": "code",
   "execution_count": null,
   "metadata": {},
   "outputs": [],
   "source": [
    "meg_ns.response_buttons.get_sent_adresses()"
   ]
  }
 ],
 "metadata": {
  "kernelspec": {
   "display_name": "expy37",
   "language": "python",
   "name": "python3"
  },
  "language_info": {
   "codemirror_mode": {
    "name": "ipython",
    "version": 3
   },
   "file_extension": ".py",
   "mimetype": "text/x-python",
   "name": "python",
   "nbconvert_exporter": "python",
   "pygments_lexer": "ipython3",
   "version": "3.7.17"
  }
 },
 "nbformat": 4,
 "nbformat_minor": 2
}
