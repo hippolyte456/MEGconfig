{
 "cells": [
  {
   "cell_type": "code",
   "execution_count": 2,
   "metadata": {},
   "outputs": [
    {
     "data": {
      "text/plain": [
       "<module 'meg_config' from '/home/hippolytedreyfus/Documents/meg_config/meg_config/__init__.py'>"
      ]
     },
     "execution_count": 2,
     "metadata": {},
     "output_type": "execute_result"
    }
   ],
   "source": [
    "import importlib\n",
    "import meg_config\n",
    "import meg_config.room as room\n",
    "# TODO change name\n",
    "# import meg_room.room as room (ou experiment_room.room?)\n",
    "\n",
    "from meg_config.room import CONFIG_PATH, USER_CONFIG_PATH\n",
    "importlib.reload(meg_config)\n"
   ]
  },
  {
   "cell_type": "code",
   "execution_count": 3,
   "metadata": {},
   "outputs": [],
   "source": [
    "meg_ns  = room.meg_room(CONFIG_PATH, USER_CONFIG_PATH)"
   ]
  },
  {
   "cell_type": "code",
   "execution_count": 4,
   "metadata": {},
   "outputs": [
    {
     "data": {
      "text/plain": [
       "<meg_config.room.buttons at 0x7bdeefccf150>"
      ]
     },
     "execution_count": 4,
     "metadata": {},
     "output_type": "execute_result"
    }
   ],
   "source": [
    "meg_ns.response_buttons.buttons"
   ]
  },
  {
   "cell_type": "code",
   "execution_count": null,
   "metadata": {},
   "outputs": [],
   "source": [
    "meg_ns.show_all()"
   ]
  },
  {
   "cell_type": "markdown",
   "metadata": {},
   "source": [
    "## Quelques attributs importants "
   ]
  },
  {
   "cell_type": "code",
   "execution_count": 6,
   "metadata": {},
   "outputs": [
    {
     "name": "stdout",
     "output_type": "stream",
     "text": [
      "<meg_config.room.buttons object at 0x7bdeefccf150>\n",
      "STI015\n",
      "STI014\n"
     ]
    }
   ],
   "source": [
    "print(meg_ns.response_buttons.buttons)\n",
    "print(meg_ns.response_buttons.buttons.l_red)\n",
    "print(meg_ns.response_buttons.buttons.r_green)"
   ]
  },
  {
   "cell_type": "code",
   "execution_count": 7,
   "metadata": {},
   "outputs": [
    {
     "name": "stdout",
     "output_type": "stream",
     "text": [
      "/dev/parport0\n",
      "/dev/parport1\n",
      "/dev/parport2\n"
     ]
    }
   ],
   "source": [
    "print(meg_ns.stim_pc.parport.port1)\n",
    "print(meg_ns.stim_pc.parport.port2)\n",
    "print(meg_ns.stim_pc.parport.port3)"
   ]
  },
  {
   "cell_type": "code",
   "execution_count": 8,
   "metadata": {},
   "outputs": [
    {
     "name": "stdout",
     "output_type": "stream",
     "text": [
      "-300\n"
     ]
    }
   ],
   "source": [
    "print(meg_ns.stim_pc.x_shift)"
   ]
  },
  {
   "cell_type": "markdown",
   "metadata": {},
   "source": [
    "## Quelques fonctions importantes"
   ]
  },
  {
   "cell_type": "code",
   "execution_count": null,
   "metadata": {},
   "outputs": [],
   "source": [
    "meg_ns.stim_pc.send_all_triggers()"
   ]
  },
  {
   "cell_type": "code",
   "execution_count": null,
   "metadata": {},
   "outputs": [],
   "source": [
    "meg_ns.response_buttons.get_sent_adresses()"
   ]
  }
 ],
 "metadata": {
  "kernelspec": {
   "display_name": "expy37",
   "language": "python",
   "name": "python3"
  },
  "language_info": {
   "codemirror_mode": {
    "name": "ipython",
    "version": 3
   },
   "file_extension": ".py",
   "mimetype": "text/x-python",
   "name": "python",
   "nbconvert_exporter": "python",
   "pygments_lexer": "ipython3",
   "version": "3.7.17"
  }
 },
 "nbformat": 4,
 "nbformat_minor": 2
}
