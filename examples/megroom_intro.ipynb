{
 "cells": [
  {
   "cell_type": "code",
   "execution_count": 2,
   "metadata": {},
   "outputs": [
    {
     "name": "stdout",
     "output_type": "stream",
     "text": [
      "Expyriment 0.10.0 (Python 3.7.17) \n",
      "[DEV MODE] Lecture fictive du port /dev/parport0\n",
      "[DEV MODE] Lecture fictive du port /dev/parport1\n",
      "[DEV MODE] Lecture fictive du port /dev/parport2\n",
      "[DEV MODE] Lecture fictive du port /dev/parport0\n",
      "[DEV MODE] Lecture fictive du port /dev/parport1\n",
      "[DEV MODE] Lecture fictive du port /dev/parport2\n"
     ]
    }
   ],
   "source": [
    "\n",
    "import importlib\n",
    "import meg_config # TODO change name to meg_room.or expe_room\n",
    "import meg_config._eyetracker\n",
    "import meg_config._stim_pc\n",
    "import meg_config.room as room\n",
    "from meg_config.room import CONFIG_PATH, USER_CONFIG_PATH\n",
    "\n",
    "importlib.reload(meg_config)\n",
    "importlib.reload(meg_config._stim_pc)\n",
    "importlib.reload(meg_config._eyetracker)\n",
    "\n",
    "megroom_ns  = room.MegRoom(CONFIG_PATH, USER_CONFIG_PATH)"
   ]
  },
  {
   "cell_type": "markdown",
   "metadata": {},
   "source": [
    "## Quelques attributs importants "
   ]
  },
  {
   "cell_type": "code",
   "execution_count": 3,
   "metadata": {},
   "outputs": [
    {
     "name": "stdout",
     "output_type": "stream",
     "text": [
      "Button(label=l_red, ttl=STI012, status=None)\n",
      "Button(label=r_green, ttl=STI014, status=None)\n",
      "ResponseButtons(['l_red', 'l_yellow', 'l_green', 'l_blue', 'r_red', 'r_yellow', 'r_green', 'r_blue'])\n"
     ]
    }
   ],
   "source": [
    "# print(megroom_ns.response_buttons.buttons)\n",
    "print(megroom_ns.response_buttons.l_red)\n",
    "print(megroom_ns.response_buttons.r_green)\n",
    "print(megroom_ns.response_buttons)"
   ]
  },
  {
   "cell_type": "code",
   "execution_count": 10,
   "metadata": {},
   "outputs": [
    {
     "name": "stdout",
     "output_type": "stream",
     "text": [
      "StimPC(config={'name': 'Dell Precision 7920', 'parport': {'port1': '/dev/parport0', 'port2': '/dev/parport1', 'port3': '/dev/parport2', 'port4': '/dev/parport3'}, 'x_shift': -300})\n"
     ]
    }
   ],
   "source": [
    "print(megroom_ns.stim_pc)"
   ]
  },
  {
   "cell_type": "code",
   "execution_count": null,
   "metadata": {},
   "outputs": [],
   "source": [
    "print(megroom_ns.stim_pc.port1)\n",
    "print(megroom_ns.stim_pc.port2)\n",
    "print(megroom_ns.stim_pc.port3)"
   ]
  },
  {
   "cell_type": "code",
   "execution_count": 14,
   "metadata": {},
   "outputs": [
    {
     "name": "stdout",
     "output_type": "stream",
     "text": [
      "-300\n"
     ]
    }
   ],
   "source": [
    "print(megroom_ns.stim_pc.config['x_shift'])"
   ]
  },
  {
   "cell_type": "markdown",
   "metadata": {},
   "source": [
    "## Quelques fonctions importantes"
   ]
  },
  {
   "cell_type": "code",
   "execution_count": null,
   "metadata": {},
   "outputs": [],
   "source": [
    "megroom_ns.show_all()"
   ]
  },
  {
   "cell_type": "code",
   "execution_count": null,
   "metadata": {},
   "outputs": [],
   "source": [
    "megroom_ns.stim_pc.send_all_triggers()"
   ]
  },
  {
   "cell_type": "code",
   "execution_count": null,
   "metadata": {},
   "outputs": [],
   "source": [
    "megroom_ns.response_buttons.get_sent_adresses()"
   ]
  }
 ],
 "metadata": {
  "kernelspec": {
   "display_name": "expy37",
   "language": "python",
   "name": "python3"
  },
  "language_info": {
   "codemirror_mode": {
    "name": "ipython",
    "version": 3
   },
   "file_extension": ".py",
   "mimetype": "text/x-python",
   "name": "python",
   "nbconvert_exporter": "python",
   "pygments_lexer": "ipython3",
   "version": "3.7.17"
  }
 },
 "nbformat": 4,
 "nbformat_minor": 2
}
