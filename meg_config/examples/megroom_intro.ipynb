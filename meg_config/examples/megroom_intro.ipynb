{
 "cells": [
  {
   "cell_type": "code",
   "execution_count": null,
   "metadata": {},
   "outputs": [],
   "source": [
    "# TODO change name to meg_room or expe_room\n",
    "import meg_config.room\n",
    "import meg_config.utils\n",
    "import meg_config._eyetracker\n",
    "import meg_config._stim_pc\n",
    "\n",
    "import importlib\n",
    "importlib.reload(meg_config.room)\n",
    "importlib.reload(meg_config._stim_pc)\n",
    "importlib.reload(meg_config._eyetracker)\n",
    "\n",
    "CONFIG_PATH = \"/home/hippolytedreyfus/Documents/meg_config/meg_config/config/hardware_config.yaml\"\n",
    "USER_CONFIG_PATH = \"/home/hippolytedreyfus/Documents/meg_config/meg_config/config/user_config.yaml\"\n",
    "megroom_ns  = meg_config.room.MegRoom(CONFIG_PATH, USER_CONFIG_PATH)"
   ]
  },
  {
   "cell_type": "markdown",
   "metadata": {},
   "source": [
    "## ✅ **Automated Hardware Configuration Loading**  "
   ]
  },
  {
   "cell_type": "markdown",
   "metadata": {},
   "source": [
    "### A global view of the room"
   ]
  },
  {
   "cell_type": "code",
   "execution_count": null,
   "metadata": {},
   "outputs": [],
   "source": [
    "megroom_ns.show_all()"
   ]
  },
  {
   "cell_type": "code",
   "execution_count": null,
   "metadata": {},
   "outputs": [],
   "source": [
    "megroom_ns.display_all_hardware()"
   ]
  },
  {
   "cell_type": "code",
   "execution_count": null,
   "metadata": {},
   "outputs": [],
   "source": [
    "megroom_ns.current_config()"
   ]
  },
  {
   "cell_type": "markdown",
   "metadata": {},
   "source": [
    "### Stim PC"
   ]
  },
  {
   "cell_type": "code",
   "execution_count": null,
   "metadata": {},
   "outputs": [],
   "source": [
    "print(megroom_ns.stim_pc)"
   ]
  },
  {
   "cell_type": "code",
   "execution_count": null,
   "metadata": {},
   "outputs": [],
   "source": [
    "print(megroom_ns.stim_pc.port1)\n",
    "print(megroom_ns.stim_pc.port2)\n",
    "print(megroom_ns.stim_pc.port3)"
   ]
  },
  {
   "cell_type": "markdown",
   "metadata": {},
   "source": [
    "### Response buttons"
   ]
  },
  {
   "cell_type": "code",
   "execution_count": null,
   "metadata": {},
   "outputs": [],
   "source": [
    "# print(megroom_ns.response_buttons.buttons)\n",
    "print(megroom_ns.response_buttons.l_red)\n",
    "print(megroom_ns.response_buttons.r_green)\n",
    "print(megroom_ns.response_buttons)"
   ]
  },
  {
   "cell_type": "markdown",
   "metadata": {},
   "source": [
    "### Videoproj ?"
   ]
  },
  {
   "cell_type": "code",
   "execution_count": 14,
   "metadata": {},
   "outputs": [
    {
     "name": "stdout",
     "output_type": "stream",
     "text": [
      "-300\n"
     ]
    }
   ],
   "source": [
    "print(megroom_ns.stim_pc.config['x_shift'])"
   ]
  },
  {
   "cell_type": "markdown",
   "metadata": {},
   "source": [
    "### Audio system"
   ]
  },
  {
   "cell_type": "markdown",
   "metadata": {},
   "source": [
    "## 🔧 **Experiment Configuration Sanity Checks**"
   ]
  },
  {
   "cell_type": "code",
   "execution_count": null,
   "metadata": {},
   "outputs": [],
   "source": [
    "megroom_ns._test_hardware()"
   ]
  },
  {
   "cell_type": "markdown",
   "metadata": {},
   "source": [
    "## 🚨 **Assistance for Debugging Hardware Malfunctions**  "
   ]
  },
  {
   "cell_type": "code",
   "execution_count": 2,
   "metadata": {},
   "outputs": [],
   "source": [
    "megroom_ns.response_buttons.record_pressed_buttons()"
   ]
  },
  {
   "cell_type": "markdown",
   "metadata": {},
   "source": [
    "## 🛠️ **Enhanced Acquisition Robustness & Data Quality Assessment** "
   ]
  },
  {
   "cell_type": "code",
   "execution_count": null,
   "metadata": {},
   "outputs": [],
   "source": [
    "megroom_ns.stim_pc.send_all_triggers()"
   ]
  },
  {
   "cell_type": "code",
   "execution_count": null,
   "metadata": {},
   "outputs": [],
   "source": [
    "from pprint import pprint\n",
    "\n",
    "stim_tree = [10, 8, [3,3], 14]\n",
    "encoding = meg_config.utils.get_binary_encoding(stim_tree)\n",
    "\n",
    "pprint(encoding)"
   ]
  }
 ],
 "metadata": {
  "kernelspec": {
   "display_name": "expy37",
   "language": "python",
   "name": "python3"
  },
  "language_info": {
   "codemirror_mode": {
    "name": "ipython",
    "version": 3
   },
   "file_extension": ".py",
   "mimetype": "text/x-python",
   "name": "python",
   "nbconvert_exporter": "python",
   "pygments_lexer": "ipython3",
   "version": "3.7.17"
  }
 },
 "nbformat": 4,
 "nbformat_minor": 2
}
